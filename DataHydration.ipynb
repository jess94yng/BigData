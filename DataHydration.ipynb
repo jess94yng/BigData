{
 "cells": [
  {
   "cell_type": "code",
   "execution_count": 1,
   "metadata": {},
   "outputs": [],
   "source": [
    "import pandas as pd"
   ]
  },
  {
   "cell_type": "code",
   "execution_count": 15,
   "metadata": {},
   "outputs": [
    {
     "name": "stdout",
     "output_type": "stream",
     "text": [
      "  index             tweet_id\n",
      "0   968  1307342649196556289\n",
      "1   968  1306265744062255104\n",
      "2   968  1306185322540171265\n",
      "3   968  1306077031684169729\n"
     ]
    }
   ],
   "source": [
    "df = pd.read_csv('NewsFakeCOVID-19_tweets_110120.csv', dtype=str)\n",
    "print (df.head())\n",
    "df['tweet_id'].to_csv(\"NewsFakeCOVID-19_tweets_110120.txt\", header=False, index=False)"
   ]
  }
 ],
 "metadata": {
  "kernelspec": {
   "display_name": "Python 3",
   "language": "python",
   "name": "python3"
  },
  "language_info": {
   "codemirror_mode": {
    "name": "ipython",
    "version": 3
   },
   "file_extension": ".py",
   "mimetype": "text/x-python",
   "name": "python",
   "nbconvert_exporter": "python",
   "pygments_lexer": "ipython3",
   "version": "3.8.5"
  }
 },
 "nbformat": 4,
 "nbformat_minor": 4
}
